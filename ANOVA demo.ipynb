{
 "cells": [
  {
   "cell_type": "markdown",
   "metadata": {},
   "source": [
    "# ANOVA demo\n",
    "\n",
    "## Consider data generated from a linear function $y = 1 + 2x + 3x^2 + 0x^3 + \\varepsilon$:"
   ]
  },
  {
   "cell_type": "code",
   "execution_count": 3,
   "metadata": {},
   "outputs": [
    {
     "data": {
      "text/plain": [
       "<matplotlib.text.Text at 0x17f02588>"
      ]
     },
     "execution_count": 3,
     "output_type": "execute_result",
     "metadata": {}
    },
    {
     "data": {
      "image/png": "[encoded data removed]"
     },
     "output_type": "display_data",
     "metadata": {}
    }
   ],
   "source": [
    "%matplotlib inline\n",
    "\n",
    "import numpy as np\n",
    "import matplotlib\n",
    "import matplotlib.pyplot as plt\n",
    "\n",
    "### ANOVA for regression\n",
    "import numpy as np\n",
    "from scipy.stats import t, f\n",
    "import statsmodels.api as sm\n",
    "\n",
    "n_samples = 30\n",
    "true_fun = lambda X: 1 + 2*X + 3*X**2 + 0*X**3\n",
    "X = np.sort(np.random.rand(n_samples))\n",
    "X1 = np.vstack((X**0,X**1,X**2,X**3)).T\n",
    "y = true_fun(X) + np.random.randn(n_samples) * 0.1\n",
    "plt.scatter(X,y)\n",
    "plt.xlabel(\"x\")\n",
    "plt.ylabel(\"y\")"
   ]
  },
  {
   "cell_type": "markdown",
   "metadata": {},
   "source": [
    "# Train a linear model $y = \\beta_0 + \\beta_1 x + \\beta_2 x^2 + \\beta_3 x^3$:"
   ]
  },
  {
   "cell_type": "code",
   "execution_count": 58,
   "metadata": {},
   "outputs": [
    {
     "name": "stdout",
     "output_type": "stream",
     "text": [
      "                            OLS Regression Results                            \n",
      "==============================================================================\n",
      "Dep. Variable:                      y   R-squared:                       0.997\n",
      "Model:                            OLS   Adj. R-squared:                  0.996\n",
      "Method:                 Least Squares   F-statistic:                     2753.\n",
      "Date:                Thu, 05 Nov 2015   Prob (F-statistic):           1.20e-32\n",
      "Time:                        16:45:44   Log-Likelihood:                 32.683\n",
      "No. Observations:                  30   AIC:                            -57.37\n",
      "Df Residuals:                      26   BIC:                            -51.76\n",
      "Df Model:                           3                                         \n",
      "Covariance Type:            nonrobust                                         \n",
      "==============================================================================\n",
      "                 coef    std err          t      P>|t|      [95.0% Conf. Int.]\n",
      "------------------------------------------------------------------------------\n",
      "const          0.9108      0.064     14.187      0.000         0.779     1.043\n",
      "x1             2.6337      0.685      3.847      0.001         1.226     4.041\n",
      "x2             1.4035      1.774      0.791      0.436        -2.243     5.050\n",
      "x3             1.1394      1.244      0.916      0.368        -1.418     3.696\n",
      "==============================================================================\n",
      "Omnibus:                        0.507   Durbin-Watson:                   2.605\n",
      "Prob(Omnibus):                  0.776   Jarque-Bera (JB):                0.634\n",
      "Skew:                           0.201   Prob(JB):                        0.728\n",
      "Kurtosis:                       2.412   Cond. No.                         166.\n",
      "==============================================================================\n",
      "\n",
      "Warnings:\n",
      "[1] Standard Errors assume that the covariance matrix of the errors is correctly specified.\n"
     ]
    }
   ],
   "source": [
    "# Fit regression model\n",
    "results = sm.OLS(y, X1).fit()\n",
    "\n",
    "# Inspect the results\n",
    "print results.summary()"
   ]
  },
  {
   "cell_type": "markdown",
   "metadata": {},
   "source": [
    "# Double check the F statistic using its definition:"
   ]
  },
  {
   "cell_type": "code",
   "execution_count": 59,
   "metadata": {},
   "outputs": [
    {
     "name": "stdout",
     "output_type": "stream",
     "text": [
      "2752.88088019\n"
     ]
    }
   ],
   "source": [
    "# calculate F statistic\n",
    "p = X1.shape[1] # model dof\n",
    "beta = np.linalg.solve(np.dot(X1.T,X1),np.dot(X1.T,y)) # coefficients\n",
    "ybar = y.mean() # sample mean\n",
    "yhat = np.dot(X1,beta)\n",
    "MSM = np.linalg.norm(yhat-ybar)**2/(p-1)\n",
    "MSE = np.linalg.norm(yhat-y)**2/(n_samples-p)\n",
    "F = MSM/MSE\n",
    "print F"
   ]
  },
  {
   "cell_type": "markdown",
   "metadata": {},
   "source": [
    "# Perform f-test directly on all model parameters\n",
    "## This should lead to the same result as from model summary"
   ]
  },
  {
   "cell_type": "code",
   "execution_count": 60,
   "metadata": {},
   "outputs": [
    {
     "data": {
      "text/plain": [
       "<class 'statsmodels.stats.contrast.ContrastResults'>\n",
       "<F test: F=array([[ 2752.88088019]]), p=1.19702419026e-32, df_denom=26, df_num=3>"
      ]
     },
     "execution_count": 60,
     "output_type": "execute_result",
     "metadata": {}
    }
   ],
   "source": [
    "results.f_test(\"x1 = x2 = x3 = 0\")"
   ]
  },
  {
   "cell_type": "markdown",
   "metadata": {},
   "source": [
    "# Perform f-tests on part of the model parameters "
   ]
  },
  {
   "cell_type": "code",
   "execution_count": 62,
   "metadata": {},
   "outputs": [
    {
     "data": {
      "text/plain": [
       "<class 'statsmodels.stats.contrast.ContrastResults'>\n",
       "<F test: F=array([[ 91.15361031]]), p=1.78442092775e-12, df_denom=26, df_num=2>"
      ]
     },
     "execution_count": 62,
     "output_type": "execute_result",
     "metadata": {}
    }
   ],
   "source": [
    "results.f_test(\"x2 = x3 = 0\")"
   ]
  },
  {
   "cell_type": "markdown",
   "metadata": {},
   "source": [
    "# Calculate confidence intervals for estimators ($\\beta^*$)\n",
    "\n",
    "## Recall $Var(\\beta^*) = (X^TX)^{-1}\\sigma^2$\n",
    "\n",
    "## 1. Estimate $\\sigma^2$ with its sample variance $s^2 = \\frac{||y-X\\beta^*||^2}{n-p}$"
   ]
  },
  {
   "cell_type": "code",
   "execution_count": 63,
   "metadata": {},
   "outputs": [
    {
     "name": "stdout",
     "output_type": "stream",
     "text": [
      "0.0076452642955\n"
     ]
    }
   ],
   "source": [
    "# check std on each coefficient\n",
    "sigma2 = np.sum((y-np.dot(X1,beta.T))**2)/(y.size-p)\n",
    "print sigma2"
   ]
  },
  {
   "cell_type": "markdown",
   "metadata": {},
   "source": [
    "## 2. Calculate the diagonal line of $(X^TX)^{-1}$, scaled by $s^2$"
   ]
  },
  {
   "cell_type": "code",
   "execution_count": 64,
   "metadata": {},
   "outputs": [
    {
     "name": "stdout",
     "output_type": "stream",
     "text": [
      "[ 0.06419717  0.68470964  1.77416724  1.24394849]\n"
     ]
    }
   ],
   "source": [
    "std = np.sqrt(np.matrix.diagonal(np.linalg.inv(np.dot(X1.T,X1))*sigma2))\n",
    "print std"
   ]
  },
  {
   "cell_type": "markdown",
   "metadata": {},
   "source": [
    "## These are the estimated standard deviations of $\\beta^*_0,~\\beta^*_1,~\\beta^*_2,~\\beta^*_3$ \n",
    "\n",
    "## Let's double check with the model summary table:"
   ]
  },
  {
   "cell_type": "code",
   "execution_count": 65,
   "metadata": {},
   "outputs": [
    {
     "name": "stdout",
     "output_type": "stream",
     "text": [
      "                            OLS Regression Results                            \n",
      "==============================================================================\n",
      "Dep. Variable:                      y   R-squared:                       0.997\n",
      "Model:                            OLS   Adj. R-squared:                  0.996\n",
      "Method:                 Least Squares   F-statistic:                     2753.\n",
      "Date:                Thu, 05 Nov 2015   Prob (F-statistic):           1.20e-32\n",
      "Time:                        17:11:32   Log-Likelihood:                 32.683\n",
      "No. Observations:                  30   AIC:                            -57.37\n",
      "Df Residuals:                      26   BIC:                            -51.76\n",
      "Df Model:                           3                                         \n",
      "Covariance Type:            nonrobust                                         \n",
      "==============================================================================\n",
      "                 coef    std err          t      P>|t|      [95.0% Conf. Int.]\n",
      "------------------------------------------------------------------------------\n",
      "const          0.9108      0.064     14.187      0.000         0.779     1.043\n",
      "x1             2.6337      0.685      3.847      0.001         1.226     4.041\n",
      "x2             1.4035      1.774      0.791      0.436        -2.243     5.050\n",
      "x3             1.1394      1.244      0.916      0.368        -1.418     3.696\n",
      "==============================================================================\n",
      "Omnibus:                        0.507   Durbin-Watson:                   2.605\n",
      "Prob(Omnibus):                  0.776   Jarque-Bera (JB):                0.634\n",
      "Skew:                           0.201   Prob(JB):                        0.728\n",
      "Kurtosis:                       2.412   Cond. No.                         166.\n",
      "==============================================================================\n",
      "\n",
      "Warnings:\n",
      "[1] Standard Errors assume that the covariance matrix of the errors is correctly specified.\n"
     ]
    }
   ],
   "source": [
    "# Inspect the results\n",
    "print results.summary()"
   ]
  },
  {
   "cell_type": "markdown",
   "metadata": {},
   "source": [
    "## Consider each estimator as some \"sample mean\", with its std, we can calculate a T statistic to test if the estimator should be zero: $t = \\frac{\\beta^*_i-0}{s_i}$"
   ]
  },
  {
   "cell_type": "code",
   "execution_count": 66,
   "metadata": {},
   "outputs": [
    {
     "data": {
      "text/plain": [
       "array([ 14.18676962,   3.84651907,   0.79110123,   0.91594455])"
      ]
     },
     "execution_count": 66,
     "output_type": "execute_result",
     "metadata": {}
    }
   ],
   "source": [
    "beta/std"
   ]
  },
  {
   "cell_type": "markdown",
   "metadata": {},
   "source": [
    "## We can then calculate the p-values, i.e., $P(T>|t|)$:"
   ]
  },
  {
   "cell_type": "code",
   "execution_count": 67,
   "metadata": {},
   "outputs": [
    {
     "data": {
      "text/plain": [
       "array([  9.41469125e-14,   6.96755138e-04,   4.36042546e-01,\n",
       "         3.68113785e-01])"
      ]
     },
     "execution_count": 67,
     "output_type": "execute_result",
     "metadata": {}
    }
   ],
   "source": [
    "(1-t.cdf(np.abs(beta/std), y.size-p))*2"
   ]
  },
  {
   "cell_type": "markdown",
   "metadata": {},
   "source": [
    "## Lastly, let's calculate the confidence interval: $CI_i = [\\beta^*_i - t_{\\alpha/2}s_i, \\beta^*_i + t_{\\alpha/2}s_i]$:"
   ]
  },
  {
   "cell_type": "code",
   "execution_count": 68,
   "metadata": {},
   "outputs": [
    {
     "data": {
      "text/plain": [
       "array([ 1.04270968,  4.04118951,  5.05039886,  3.69636058])"
      ]
     },
     "execution_count": 68,
     "output_type": "execute_result",
     "metadata": {}
    }
   ],
   "source": [
    "beta + t.ppf(0.975, y.size-p)*std"
   ]
  },
  {
   "cell_type": "code",
   "execution_count": 69,
   "metadata": {},
   "outputs": [
    {
     "data": {
      "text/plain": [
       "array([ 0.77879132,  1.22630787, -2.24330711, -1.4175849 ])"
      ]
     },
     "execution_count": 69,
     "output_type": "execute_result",
     "metadata": {}
    }
   ],
   "source": [
    "beta - t.ppf(0.975, y.size-p)*std"
   ]
  },
  {
   "cell_type": "markdown",
   "metadata": {},
   "source": [
    "# ANOVA and CI helps to identify if a set of parameters should be all zeros or not. Dropping each parameter, however, will change the conclusions previously made on other model parameters! "
   ]
  },
  {
   "cell_type": "markdown",
   "metadata": {},
   "source": [
    "# One way to automatically identify all significant parameters is to use LASSO:"
   ]
  },
  {
   "cell_type": "code",
   "execution_count": 70,
   "metadata": {},
   "outputs": [
    {
     "data": {
      "text/plain": [
       "LassoCV(alphas=None, copy_X=True, cv=3, eps=0.001, fit_intercept=False,\n",
       "    max_iter=1000, n_alphas=100, n_jobs=1, normalize=False, positive=False,\n",
       "    precompute='auto', random_state=None, selection='cyclic', tol=0.0001,\n",
       "    verbose=False)"
      ]
     },
     "execution_count": 70,
     "output_type": "execute_result",
     "metadata": {}
    }
   ],
   "source": [
    "from sklearn.linear_model import LassoCV, Lasso\n",
    "\n",
    "model=LassoCV(cv=3, fit_intercept=False) #alpha based on CV for ncv from above\n",
    "\n",
    "model.fit(X1, y)"
   ]
  },
  {
   "cell_type": "code",
   "execution_count": 71,
   "metadata": {},
   "outputs": [
    {
     "name": "stdout",
     "output_type": "stream",
     "text": [
      "[ 0.92329473  2.40181739  2.17166351  0.51400825]\n"
     ]
    }
   ],
   "source": [
    "print model.coef_"
   ]
  },
  {
   "cell_type": "markdown",
   "metadata": {},
   "source": [
    "## compare with OLS estimators:"
   ]
  },
  {
   "cell_type": "code",
   "execution_count": 47,
   "metadata": {},
   "outputs": [
    {
     "name": "stdout",
     "output_type": "stream",
     "text": [
      "[ 0.98228521  1.79480323  3.84516716 -0.65983481]\n"
     ]
    }
   ],
   "source": [
    "print beta"
   ]
  },
  {
   "cell_type": "markdown",
   "metadata": {},
   "source": [
    "#%%%%%%%%%%%%%%%%%%%%%%%%%%%%%%%%%%%%%%%"
   ]
  },
  {
   "cell_type": "markdown",
   "metadata": {},
   "source": [
    "# Compare two sample t-test and one way ANOVA\n"
   ]
  },
  {
   "cell_type": "code",
   "execution_count": 4,
   "metadata": {},
   "outputs": [
    {
     "data": {
      "text/plain": [
       "([array([ 100.,  109.,  107.,   91.,  101.,  115.,  101.,   95.,   96.,   85.]),\n",
       "  array([  98.,   84.,  100.,  113.,  107.,   86.,   92.,  102.,  116.,  102.])],\n",
       " array([  6.94178384e-05,   1.00059096e-01,   2.00048775e-01,\n",
       "          3.00038454e-01,   4.00028132e-01,   5.00017811e-01,\n",
       "          6.00007490e-01,   6.99997168e-01,   7.99986847e-01,\n",
       "          8.99976526e-01,   9.99966204e-01]),\n",
       " <a list of 2 Lists of Patches objects>)"
      ]
     },
     "execution_count": 4,
     "output_type": "execute_result",
     "metadata": {}
    },
    {
     "data": {
      "image/png": "[encoded data removed]"
     },
     "output_type": "display_data",
     "metadata": {}
    }
   ],
   "source": [
    "import numpy as np\n",
    "nobs = 1000\n",
    "b2 = 0\n",
    "b1 = 0.0\n",
    "b0 = 0.2\n",
    "X1 = b2 + np.random.random(nobs)\n",
    "X2 = b2 + b1 + np.random.random(nobs)\n",
    "plt.hist( [X1, X2] , stacked=False)"
   ]
  },
  {
   "cell_type": "markdown",
   "metadata": {},
   "source": [
    "## two sample t-test"
   ]
  },
  {
   "cell_type": "code",
   "execution_count": 5,
   "metadata": {},
   "outputs": [
    {
     "data": {
      "text/plain": [
       "(-1.6886082699800298, 0.091450569047131891)"
      ]
     },
     "execution_count": 5,
     "output_type": "execute_result",
     "metadata": {}
    }
   ],
   "source": [
    "from scipy.stats import ttest_ind\n",
    "ttest_ind(X1,X2)"
   ]
  },
  {
   "cell_type": "markdown",
   "metadata": {},
   "source": [
    "## ANOVA"
   ]
  },
  {
   "cell_type": "code",
   "execution_count": 6,
   "metadata": {},
   "outputs": [
    {
     "data": {
      "text/plain": [
       "(2.8513978894450211, 0.091450569047090091)"
      ]
     },
     "execution_count": 6,
     "output_type": "execute_result",
     "metadata": {}
    }
   ],
   "source": [
    "from scipy.stats import f_oneway\n",
    "f_oneway(X1,X2)"
   ]
  },
  {
   "cell_type": "markdown",
   "metadata": {},
   "source": [
    "# Here is a proof that two sample t-test and ANOVA are the same:\n",
    "\n",
    "For t-test, the T statistic is\n",
    "\\begin{equation}\n",
    "T = \\frac{\\bar{x}_1-\\bar{x}_2}{\\sqrt{S_p^2 (1/n_1 + 1/n_2)}}\n",
    "\\end{equation}\n",
    "\n",
    "For ANOVA, we have the model $y = \\beta_0 + \\beta_1 x$. By minimizing the sum of squared errors, we can get $\\beta_0^* = \\bar{x}_1$, and $\\beta_1^* = \\bar{x}_2 - \\bar{x}_1$. \n",
    "\n",
    "The unexplained variance of the model is\n",
    "\\begin{equation}\n",
    "(\\sum_{i=1}^{n_1}(x_1^{(i)}-\\bar{x}_1)^2 + \\sum_{i=1}^{n_2}(x_2^{(i)}-\\bar{x}_2)^2)/(n_1+n_2-p) = S_p^2\n",
    "\\end{equation}\n",
    "\n",
    "Let the sample mean be $\\bar{x} = \\frac{\\sum_{i=1}^{n_1} x_1 + \\sum_{i=1}^{n_2} x_2}{n_1+n_2}$. The explained variance of the model is\n",
    "\\begin{equation}\n",
    "\\begin{aligned}\n",
    "& \\frac{(\\bar{x}_1 - \\bar{x})^2 + (\\bar{x}_2 - \\bar{x})^2}{p-1}\\\\\n",
    "=& \\frac{(\\bar{x}_1 - \\bar{x}_2)^2}{1/n_1 + 1/n_2}\n",
    "\\end{aligned}\n",
    "\\end{equation}\n",
    "\n",
    "Therefore $F = \\frac{(\\bar{x}_1 - \\bar{x}_2)^2}{S_p^2(1/n_1 + 1/n_2)} = T^2$"
   ]
  },
  {
   "cell_type": "markdown",
   "metadata": {},
   "source": [
    "## Test three sample means with ANOVA"
   ]
  },
  {
   "cell_type": "code",
   "execution_count": 7,
   "metadata": {},
   "outputs": [
    {
     "data": {
      "text/plain": [
       "(154.67982558735338, 1.1721165195490101e-64)"
      ]
     },
     "execution_count": 7,
     "output_type": "execute_result",
     "metadata": {}
    },
    {
     "data": {
      "image/png": "[encoded data removed]"
     },
     "output_type": "display_data",
     "metadata": {}
    }
   ],
   "source": [
    "nobs = 1000\n",
    "b2 = 0\n",
    "b1 = 0.0\n",
    "b0 = 0.2\n",
    "X1 = b2 + np.random.random(nobs)\n",
    "X2 = b2 + b1 + np.random.random(nobs)\n",
    "X3 = b2 + b1 + b0 + np.random.random(nobs)\n",
    "plt.hist( [X1, X2, X3] , stacked=False)\n",
    "\n",
    "# one way ANOVA on three groups\n",
    "f_oneway(X1,X2)"
   ]
  },
  {
   "cell_type": "code",
   "execution_count": 8,
   "metadata": {},
   "outputs": [
    {
     "data": {
      "text/plain": [
       "(0.868571585471138, 0.35146365766078558)"
      ]
     },
     "execution_count": 8,
     "output_type": "execute_result",
     "metadata": {}
    }
   ],
   "source": [
    "f_oneway(X1,X2)"
   ]
  }
 ],
 "metadata": {
  "kernelspec": {
   "display_name": "Python 2",
   "language": "python",
   "name": "python2"
  },
  "language_info": {
   "codemirror_mode": {
    "name": "ipython",
    "version": 2.0
   },
   "file_extension": ".py",
   "mimetype": "text/x-python",
   "name": "python",
   "nbconvert_exporter": "python",
   "pygments_lexer": "ipython2",
   "version": "2.7.9"
  }
 },
 "nbformat": 4,
 "nbformat_minor": 0
}