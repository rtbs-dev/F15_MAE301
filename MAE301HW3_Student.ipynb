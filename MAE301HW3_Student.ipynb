{
 "cells": [
  {
   "cell_type": "markdown",
   "metadata": {},
   "source": [
    "# MAE 301 Homework 3"
   ]
  },
  {
   "cell_type": "markdown",
   "metadata": {},
   "source": [
    "## Problem 1 (15pt)\n",
    "\n",
    "The life of a type of electric light bulb can be modeled with probability function\n",
    "\n",
    "\\begin{equation}\n",
    "f(x) = \\left \\{ \\begin{array}{cc}\n",
    "0.001e^{-0.001x} & x \\geq 0 \\\\\n",
    "0 & \\text{otherwise} \n",
    "\\end{array} \\right.\n",
    "\\end{equation}\n",
    "\n",
    "\n",
    "where $x$ is the life in hours\n",
    "\n",
    "* (a) What is the average life of this type of light bulb? And determine the probability that a randomly picked light bulb has a life shorter than the average life.\n",
    "* (b) Determine the probability that a light bulb fails within 1200 hours.\n",
    "* (c) If 4 bulbs are installed at the same time and work independently in a house, what is the probability the homeowner needs to replace more than half of those after 1200 hours. [Hint: Binomial random variable analysis]"
   ]
  },
  {
   "cell_type": "markdown",
   "metadata": {},
   "source": [
    "## Problem 2 (20pt)"
   ]
  },
  {
   "cell_type": "markdown",
   "metadata": {},
   "source": [
    "Download ``data.txt'' from Blackboard. The file contains random samples from a normal\n",
    "distribution with unknown mean and variance. Code snippets can be found in lecture notes.\n",
    "\n",
    "* (a) Calculate the sample mean ($\\bar{x}$) and sample variance ($s^2$) of the random variable.\n",
    "* (b) Consider sample mean and sample variance as approximations of population mean and variance, determine the probability \n",
    "\\begin{align}\n",
    "(\\mu-\\sigma<X<\\mu+2\\sigma)\n",
    "\\end{align}\n",
    "and ``experimentally'' determine the probability by inspecting the original data (i.e., sort the values and count the number of the values within the range). Compare the results.\n",
    "* (c) Write a script to obtain the sample mean values with $n = 4$ for a total of $2000$ sample combinations. For each combination, the sample mean is calculated and saved. This should result in a sample mean vector with $2000$ elements. Calculate the mean and variance of the sample mean and compare them with $\\bar{x}$ and $s^2$ from (a)."
   ]
  },
  {
   "cell_type": "markdown",
   "metadata": {},
   "source": [
    "## Problem 3 (20pt)"
   ]
  },
  {
   "cell_type": "markdown",
   "metadata": {},
   "source": [
    "The random variable $X$, representing the number of cherries in a cherry puff, has the following probability distribution:\n",
    "\n",
    "\\begin{array} {|r|r|}\n",
    "\\hline\n",
    "    x &4 &5 &6 &7 \\\\\n",
    "\\hline\n",
    "    P(X=x) &0.2 &0.4 &0.3 &0.1 \\\\\n",
    "\\hline\n",
    "\\end{array}\n",
    "\n",
    "* (a) Find the mean and variance of $X$.\n",
    "* (b) Find the probability that the number of cherries in a cherry puff will be no more than 5\n",
    "* (c) Find the probability that the average number of cherries in 36 cherry puffs will be no more than 5\n",
    "* (d) Find the probability that the average number of cherries in 36 cherry puffs will be greater than 5.5"
   ]
  },
  {
   "cell_type": "markdown",
   "metadata": {},
   "source": [
    "## Problem 4 (10pt)"
   ]
  },
  {
   "cell_type": "markdown",
   "metadata": {},
   "source": [
    "In a chemical process the amount of a certain type of impurity in the output is difficult to control is thus a random variable. Speculation is that the population mean amount of the impurity is 0.20 grams per gram of output. It is known that the standard deviation is 0.1 grams per gram of output. An experiment is conducted to gain more insight regarding the speculation that the population mean is 0.20.\n",
    "\n",
    "* (a) The process was run on a lab scale 50 times and the sample average $x$ turned out to be 0.23 grams per\n",
    "gram. Perform analysis and comment on the speculation on the population mean.\n",
    "* (b) What if the process was run 30 times and the sample average $x$ turns out to be 0.19 grams per gram?"
   ]
  },
  {
   "cell_type": "markdown",
   "metadata": {},
   "source": [
    "## Problem 5 (10pt)"
   ]
  },
  {
   "cell_type": "markdown",
   "metadata": {},
   "source": [
    "The display tubes of manufacturer A have a mean lifetime of 6.5 years and a standard deviation of 0.9 year, while those of manufacturer B have a mean lifetime of 6.0 years and a standard deviation of 0.8 year. Determine the probability that a random sample of 36 tubes from manufacturer A will have a mean lifetime that is at least 1 year more than the mean lifetime of a sample of 49 tubes from manufacturer B?"
   ]
  },
  {
   "cell_type": "markdown",
   "metadata": {},
   "source": [
    "## Problem 6 (10pt)"
   ]
  },
  {
   "cell_type": "markdown",
   "metadata": {},
   "source": [
    "A maker of a certain brand of low-fat cereal bars claims that the average saturated fat content is 0.5 gram. In a random sample of 8 cereal bars of this brand, the saturated fat content was 0.6, 0.7, 0.7, 0.3, 0.4, 0.5, 0.4, and 0.2. Would you agree with the claim? Assume a normal distribution."
   ]
  },
  {
   "cell_type": "markdown",
   "metadata": {},
   "source": [
    "## Problem 7 (15pt)"
   ]
  },
  {
   "cell_type": "markdown",
   "metadata": {},
   "source": [
    "Pull-strength tests on 10 soldered leads for a semi conductor device yield the following results in pounds force required to rupture the bond: 19.9, 12.7, 13.2, 16.9, 10.6, 18.8, 11.1, 14.3, 17.0, 12.5. Another set of 8 leads was tested after encapsulation to determine whether the pull strength has been increased by encapsulation of the device, with the following results: 24.9, 22.8, 23.6, 22.1, 20.4, 21.6, 21.8, 22.5. Do the testing results support the claim that encapsulation improves the pull strength by 10 pounds?"
   ]
  }
 ],
 "metadata": {
  "kernelspec": {
   "display_name": "Python 2",
   "language": "python",
   "name": "python2"
  },
  "language_info": {
   "codemirror_mode": {
    "name": "ipython",
    "version": 2
   },
   "file_extension": ".py",
   "mimetype": "text/x-python",
   "name": "python",
   "nbconvert_exporter": "python",
   "pygments_lexer": "ipython2",
   "version": "2.7.7"
  }
 },
 "nbformat": 4,
 "nbformat_minor": 0
}
