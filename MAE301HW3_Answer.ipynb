{
 "cells": [
  {
   "cell_type": "markdown",
   "metadata": {},
   "source": [
    "# MAE 301 Homework 3"
   ]
  },
  {
   "cell_type": "markdown",
   "metadata": {},
   "source": [
    "## Problem 1 (15pt)\n",
    "\n",
    "The life of a type of electric light bulb can be modeled with probability function\n",
    "\n",
    "\\begin{equation}\n",
    "f(x) = \\left \\{ \\begin{array}{cc}\n",
    "0.001e^{-0.001x} & x \\geq 0 \\\\\n",
    "0 & \\text{otherwise} \n",
    "\\end{array} \\right.\n",
    "\\end{equation}\n",
    "\n",
    "\n",
    "where $x$ is the life in hours\n",
    "\n",
    "* (a) What is the average life of this type of light bulb? And determine the probability that a randomly picked light bulb has a life shorter than the average life.\n",
    "* (b) Determine the probability that a light bulb fails within 1200 hours.\n",
    "* (c) If 4 bulbs are installed at the same time and work independently in a house, what is the probability the homeowner needs to replace more than half of those after 1200 hours. [Hint: Binomial random variable analysis]"
   ]
  },
  {
   "cell_type": "markdown",
   "metadata": {},
   "source": [
    "## Solution\n",
    "\n",
    "* (a) Average (or mean) life\n",
    "\n",
    "\\begin{equation}\n",
    "\\begin{aligned}\n",
    "\\mu & = \\int_{-\\infty}^{\\infty} x f_X(x)dx = \\int_{0}^{\\infty} x (0.001e^{-0.001x})dx = 0.001\\int_{0}^{\\infty} x \\frac{1}{-0.001}de^{-0.001x} \\\\\n",
    "& = -\\int_{0}^{\\infty} x de^{-0.001x} = -\\left(xe^{-0.001x}+\\frac{1}{0.001}e^{-0.001x}\\right)|_0^{\\infty} = 1000 hrs\n",
    "\\end{aligned}\n",
    "\\end{equation}\n",
    "\n",
    "Probability that a light bulb has a life shorter than the average life\n",
    "\\begin{equation}\n",
    "\\int_{0}^{\\infty} x f_X(x)dx = \\int_{0}^{\\infty} 0.001e^{-0.001x}dx = e^{-0.001x}|_0^{\\infty} = -e^{-1}+1 = 0.6321\n",
    "\\end{equation}\n",
    "\n",
    "* (b) Probability that a light bulb fails within 1200 hours\n",
    "$$ P(X\\leq 1200) = -e^{-1.2}+1 = 0.6988$$\n",
    "\n",
    "* (c) Define random variable $Y$ = number of light bulbs that fail within 1200 hours\n",
    "Probability that more than half of the light bulbs fail within 1200 hours\n",
    "$$ f(Y=3) + f(Y=4) = \\left(\\begin{array}{c}\n",
    "4\\\\3\\end{array}\\right)p^3(1-p)^{4-3} + \\left(\\begin{array}{c}\n",
    "4\\\\4\\end{array}\\right)p^4(1-p)^{4-4} = 0.6496\n",
    "$$"
   ]
  },
  {
   "cell_type": "markdown",
   "metadata": {},
   "source": [
    "## Problem 2 (20pt)"
   ]
  },
  {
   "cell_type": "markdown",
   "metadata": {},
   "source": [
    "Download ``data.txt'' from Blackboard. The file contains random samples from a normal\n",
    "distribution with unknown mean and variance. Code snippets can be found in lecture notes.\n",
    "\n",
    "* (a) Calculate the sample mean ($\\bar{x}$) and sample variance ($s^2$) of the random variable.\n",
    "* (b) Consider sample mean and sample variance as approximations of population mean and variance, determine the probability \n",
    "\\begin{align}\n",
    "P(\\mu-\\sigma<X<\\mu+2\\sigma)\n",
    "\\end{align}\n",
    "and ``experimentally'' determine the probability by inspecting the original data (i.e., sort the values and count the number of the values within the range). Compare the results.\n",
    "* (c) Write a script to obtain the sample mean values with $n = 4$ for a total of $2000$ sample combinations. For each combination, the sample mean is calculated and saved. This should result in a sample mean vector with $2000$ elements. Calculate the mean and variance of the sample mean and compare them with $\\bar{x}$ and $s^2$ from (a)."
   ]
  },
  {
   "cell_type": "markdown",
   "metadata": {},
   "source": [
    "## Solution\n",
    "\n",
    "* (a) $\\bar{x} = 20.0027$, $\\sigma^2 = 15.725$.\n",
    "\n",
    "* (b) \n",
    "$$P(\\mu-\\sigma <~ X <\\mu+2\\sigma) = P(-1< \\frac{X-\\mu}{\\sigma} < 2) = P(-1<~Z<2) = \\Phi(2) - \\Phi(-1) = 0.8185\n",
    "$$\n",
    "\n",
    "Experimentally, there are a total of 3271 data point in the range $(\\mu-\\sigma, \\mu+2\\sigma)$. Thus\n",
    "$$P_{EXP}(\\mu-\\sigma <~ X <\\mu+2\\sigma) = 0.8178\n",
    "$$\n",
    "\n",
    "* (c) The resulting mean is similar to $\\bar{x}$. The variance is roughly $0.25s^2$, which is consistent with $\\sigma_{\\bar{X}}^2 = \\sigma^2/n$."
   ]
  },
  {
   "cell_type": "markdown",
   "metadata": {},
   "source": [
    "## Problem 3 (20pt)"
   ]
  },
  {
   "cell_type": "markdown",
   "metadata": {},
   "source": [
    "The random variable $X$, representing the number of cherries in a cherry puff, has the following probability distribution:\n",
    "\n",
    "\\begin{array} {|r|r|}\n",
    "\\hline\n",
    "    x &4 &5 &6 &7 \\\\\n",
    "\\hline\n",
    "    P(X=x) &0.2 &0.4 &0.3 &0.1 \\\\\n",
    "\\hline\n",
    "\\end{array}\n",
    "\n",
    "* (a) Find the mean and variance of $X$.\n",
    "* (b) Find the probability that the number of cherries in a cherry puff will be no more than 5\n",
    "* (c) Find the probability that the average number of cherries in 36 cherry puffs will be no more than 5\n",
    "* (d) Find the probability that the average number of cherries in 36 cherry puffs will be greater than 5.5"
   ]
  },
  {
   "cell_type": "markdown",
   "metadata": {},
   "source": [
    "## Solution\n",
    "\n",
    "* (a) $\\mu = 4*0.2+5*0.4+6*0.3+7*0.1 = 5.3$, $\\sigma^2 = (4-5.3)^2*0.2 + (5-5.3)^2*0.4 + (6-5.3)^2*0.3 + (7-5.3)^2*0.1 = 0.81$.\n",
    "\n",
    "* (b) $P(X \\leq 5) = P(X = 4) + P(X=5) = 0.2+0.4 = 0.6$\n",
    "\n",
    "* (c) Because $n = 36 > 30$, the sample mean can be approximated as normal distribution. $\\mu_{\\bar{X}} = 5.3$, $\\sigma_{\\bar{X}}^2 = \\sigma^2/n = 0.81/36 = 0.0225$.\n",
    "\n",
    "$P(\\bar{X}\\leq 5) = P\\left( \\frac{\\bar{X}-\\mu_{\\bar{X}}}{\\sigma_{\\bar{X}}} \\leq \\frac{5-5.3}{\\sqrt{0.0225}} \\right) = P(Z \\leq -2) = \\Phi(-2) = 0.0228$\n",
    "\n",
    "Note that the results are very different for parts (b) and (c)\n",
    "\n",
    "* (d) $P(\\bar{X}\\geq 5.5) = P(Z \\geq 1.3333) = 1-\\Phi(1.3333) = 0.0913$."
   ]
  },
  {
   "cell_type": "markdown",
   "metadata": {},
   "source": [
    "## Problem 4 (10pt)"
   ]
  },
  {
   "cell_type": "markdown",
   "metadata": {},
   "source": [
    "In a chemical process the amount of a certain type of impurity in the output is difficult to control is thus a random variable. Speculation is that the population mean amount of the impurity is 0.20 grams per gram of output. It is known that the standard deviation is 0.1 grams per gram of output. An experiment is conducted to gain more insight regarding the speculation that the population mean is 0.20.\n",
    "\n",
    "* (a) The process was run on a lab scale 50 times and the sample average $x$ turned out to be 0.23 grams per\n",
    "gram. Perform analysis and comment on the speculation on the population mean.\n",
    "* (b) What if the process was run 30 times and the sample average $x$ turns out to be 0.19 grams per gram?"
   ]
  },
  {
   "cell_type": "markdown",
   "metadata": {},
   "source": [
    "## Solution\n",
    "\n",
    "* (a) With the speculated population mean $n=50$, $\\mu=0.2$, $\\sigma=0.1$, $\\bar{x} = 0.23$.\n",
    "$P(\\bar{X}\\geq 0.23) = P\\left( \\frac{\\bar{X}-\\mu_{\\bar{X}}}{\\sigma_{\\bar{X}}} \\geq \\frac{0.23-0.20}{0.1/\\sqrt{50}} \\right) = P(Z \\geq 2.12) = 0.0170$.\n",
    "\n",
    "Hence the probability of having such observation, given the speculated population mean, is very small.\n",
    "Therefore, the mean amount to be 0.20 is not likely to be true.\n",
    "\n",
    "* (b) With the speculated population mean $n = 30$, $\\mu=0.2$, $\\sigma=0.1$, $\\bar{x} = 0.19$. $P(\\bar{X}\\leq 0.19) = P\\left( \\frac{\\bar{X}-\\mu_{\\bar{X}}}{\\sigma_{\\bar{X}}} \\leq \\frac{0.19-0.20}{0.1/\\sqrt{30}} \\right) = P(Z \\leq -0.5477) = 0.2919$.\n",
    "\n",
    "Hence the probability of having such observation, given the speculated population mean, is high.\n",
    "Therefore, the mean amount to be 0.20 is likely to be true."
   ]
  },
  {
   "cell_type": "markdown",
   "metadata": {},
   "source": [
    "## Problem 5 (10pt)"
   ]
  },
  {
   "cell_type": "markdown",
   "metadata": {},
   "source": [
    "The display tubes of manufacturer A have a mean lifetime of 6.5 years and a standard deviation of 0.9 year, while those of manufacturer B have a mean lifetime of 6.0 years and a standard deviation of 0.8 year. Determine the probability that a random sample of 36 tubes from manufacturer A will have a mean lifetime that is at least 1 year more than the mean lifetime of a sample of 49 tubes from manufacturer B?"
   ]
  },
  {
   "cell_type": "markdown",
   "metadata": {},
   "source": [
    "## Solution\n",
    "\n",
    "Because of the central limit theorem, the sample mean lifetimes can be approximated by normal\n",
    "distribution random variables.\n",
    "\n",
    "\\begin{equation}\n",
    "\\begin{aligned}\n",
    "P(\\bar{X}_A - \\bar{X}_B \\geq 1) & = P\\left(\\frac{(\\bar{X}_A - \\bar{X}_B)-(\\mu_A-\\mu_B)}{\\sqrt{(\\sigma^2_A/n_A) + (\\sigma^2_B/n_B)}} \\geq \\frac{1-(6.5-6.0)}{\\sqrt{(0.9^2/36) + (0.8^2/49)}}\\right) \\\\\n",
    "& = P(Z\\geq 2.65) = 0.0040\n",
    "\\end{aligned}\n",
    "\\end{equation}"
   ]
  },
  {
   "cell_type": "markdown",
   "metadata": {},
   "source": [
    "## Problem 6 (10pt)"
   ]
  },
  {
   "cell_type": "markdown",
   "metadata": {},
   "source": [
    "A maker of a certain brand of low-fat cereal bars claims that the average saturated fat content is 0.5 gram. In a random sample of 8 cereal bars of this brand, the saturated fat content was 0.6, 0.7, 0.7, 0.3, 0.4, 0.5, 0.4, and 0.2. Would you agree with the claim? Assume a normal distribution."
   ]
  },
  {
   "cell_type": "markdown",
   "metadata": {},
   "source": [
    "Unknown variance + inference on the mean $\\rightarrow$ t-test\n",
    "\n",
    "Sample statistics\n",
    "$$\\bar{x} = \\frac{1}{n}\\sum x_i = 0.4750$$\n",
    "$$s^2 = \\frac{1}{n-1}\\sum (x_i - \\bar{x})^2 = 0.0336$$\n",
    "$$s = 0.1832$$\n",
    "\n",
    "t-test (assuming $\\mu = 0.5$)\n",
    "$$ t = \\frac{\\bar{x}-\\mu}{s/\\sqrt{n}} = \\frac{0.4750-0.5}{0.1832/\\sqrt{8}} = -0.386$$\n",
    "\n",
    "Degrees of freedom $\\nu = n-1 = 8-1 = 7$\n",
    "\n",
    "Reasonable interval for $t$ (if the assumption is correct): $[t_{-0.025}, t_{0.025}] = [-2.365,2.365]$\n",
    "\n",
    "The t-value $-0.386$ falls into this interval. Thus the test supports the claim that the average saturated fat content is $0.5$ gram.\n",
    "\n",
    "Note that you can also calculate $P(T\\leq -0.386)$ and make a conclusion from there.\n"
   ]
  },
  {
   "cell_type": "markdown",
   "metadata": {},
   "source": [
    "## Problem 7 (15pt)"
   ]
  },
  {
   "cell_type": "markdown",
   "metadata": {},
   "source": [
    "Pull-strength tests on 10 soldered leads for a semi conductor device yield the following results in pounds force required to rupture the bond: 19.9, 12.7, 13.2, 16.9, 10.6, 18.8, 11.1, 14.3, 17.0, 12.5. Another set of 8 leads was tested after encapsulation to determine whether the pull strength has been increased by encapsulation of the device, with the following results: 24.9, 22.8, 23.6, 22.1, 20.4, 21.6, 21.8, 22.5. Do the testing results support the claim that encapsulation improves the pull strength by 10 pounds?"
   ]
  },
  {
   "cell_type": "markdown",
   "metadata": {},
   "source": [
    "Unknown population variances + inference on the means $\\rightarrow$ Either $t$- or $t'$-test\n",
    "\n",
    "From the measurements: $n_1 = 10$, $\\bar{x}_1 = 14.70$, $s_1^2=10.5556$, $n_2 = 8$, $\\bar{x}_2 = 22.46$, $s_2^2 = 1.8455$.\n",
    "\n",
    "Perform an $f$-test with $f = s_1^2/s_2^2$, $\\nu_1 = 10-1$ and $\\nu_2 = 8-1$ to see that $\\sigma_1^2 = \\sigma_2^2$ should be rejected. So $t'$-test.\n",
    "\n",
    "$$t' = \\frac{(\\bar{x}_1-\\bar{x}_2)-(\\mu_1-\\mu_2)}{\\sqrt{(s_1^2/n_1)+(s_2^2/n_2)}} = \\frac{(14.70-22.46)-(-10)}{\\sqrt{(10.5556/10)+(1.8455/8)}} = -1.97 $$\n",
    "\n",
    "Degrees of freedom\n",
    "\n",
    "$$ \\nu = \\left \\lfloor \\frac{(s_1^2/n_1+s_2^2/n_2)^2}{(s_1^2/n_1)^2/(n_1-1) + (s_2^2/n_2)^2/(n_2-1)}\\right \\rfloor = 12$$\n",
    "\n",
    "Reasonable interval for $t'$ (if the assumption $\\mu_1 - \\mu_2 = -10$ is correct): $[t_{-0.025}, t_{0.025}] = [-2.179,2.179]$. Note, you can define what's reasonable.\n",
    "\n",
    "The $t'$-value -1.97 falls into this interval. Thus this test supports the claim that that encapsulation improves the pull strength by 10 pounds. Note again, the conclusion depends on your significance level."
   ]
  }
 ],
 "metadata": {
  "kernelspec": {
   "display_name": "Python 2",
   "language": "python",
   "name": "python2"
  },
  "language_info": {
   "codemirror_mode": {
    "name": "ipython",
    "version": 2
   },
   "file_extension": ".py",
   "mimetype": "text/x-python",
   "name": "python",
   "nbconvert_exporter": "python",
   "pygments_lexer": "ipython2",
   "version": "2.7.9"
  }
 },
 "nbformat": 4,
 "nbformat_minor": 0
}
