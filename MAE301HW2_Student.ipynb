{
 "worksheets": [
  {
   "cells": [
    {
     "cell_type": "markdown",
     "metadata": {},
     "source": [
      "# MAE 301 Homework 2"
     ]
    },
    {
     "cell_type": "markdown",
     "metadata": {},
     "source": [
      "## Problem 1 (20pt)\n",
      "\n",
      "Let A denote the event that a structural component fails during a test and B denoted the event that the component shows strain but does not fail. Given P(A) = 0.15 and P(B) = 0.30:\n",
      "\n",
      "* (a) What is the probability that a structural component does not fail during a test?\n",
      "* (b) What is the probability that a component either fails or shows strain during a test?\n",
      "* (c) What is the probability that a component neither fails nor shows strain during a test?"
     ]
    },
    {
     "cell_type": "markdown",
     "metadata": {},
     "source": [
      "## Problem 2 (20pt)"
     ]
    },
    {
     "cell_type": "markdown",
     "metadata": {},
     "source": [
      "Hydraulic assemblies for landing gear coming from an aircraft rework facility are inspected for defects. History shows that 8% have defects in the shafts alone, 6% have defects in the bushings alone, and 2% have defects in both the shafts and the bushings. If a randomly chosen assembly is to be used on an aircraft, find the probability that it has each of these defects:\n",
      "\n",
      "* (a) A bushing defect\n",
      "* (b) A shaft or bushing defect\n",
      "* (c) Only one of the two type of defects\n",
      "* (d) No defects in shafts or bushings"
     ]
    },
    {
     "cell_type": "markdown",
     "metadata": {},
     "source": [
      "## Problem 3 (20pt)"
     ]
    },
    {
     "cell_type": "markdown",
     "metadata": {},
     "source": [
      "Electric motors coming off two assembly lines are pooled for storage in a common stockroom, and the room contains an equal number of motors from each line. Motors are periodically sampled from that room and tested. It is known that 10% of the motors from line I are defective and 15% of the motors from line II are defective. If a motor is randomly selected from the stockroom and found to be defective, find the probability that it came from line I."
     ]
    },
    {
     "cell_type": "markdown",
     "metadata": {},
     "source": [
      "## Problem 4 (20pt)"
     ]
    },
    {
     "cell_type": "markdown",
     "metadata": {},
     "source": [
      "Let X represent the number that occurs when a green die is tossed and Y the number that occurs when a red die is tossed. Find the mean and variance of the random variable Z = X + 3Y - 5"
     ]
    },
    {
     "cell_type": "markdown",
     "metadata": {},
     "source": [
      "## Problem 5 (20pt)"
     ]
    },
    {
     "cell_type": "markdown",
     "metadata": {},
     "source": [
      "Suppose that airplane engines operate independently and fail with probability equal to 0.4. Assuming that a plane makes a safe flight if at least one-half of its engine run, determine whether a 4-engine plane or a 2-engine plane has the higher probability for a successful flight."
     ]
    }
   ]
  }
 ],
 "cells": [],
 "metadata": {},
 "nbformat": 3,
 "nbformat_minor": 0
}