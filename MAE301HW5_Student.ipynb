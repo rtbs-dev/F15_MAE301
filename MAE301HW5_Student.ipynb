{
 "cells": [
  {
   "cell_type": "markdown",
   "metadata": {},
   "source": [
    "## Homework 5"
   ]
  },
  {
   "cell_type": "markdown",
   "metadata": {},
   "source": [
    "## Problem Description\n",
    "\n",
    "You are given the data '04car_train.txt' which includes a set of cars with their attributes. Your goal is to build a linear model that considers the price of cars (the first column in the data) as the response of the other car attributes. The homework will be graded based on two parts: (80pt) The following report on model estimation and selection, and (20pt) the prediction performance of your model using a set of test data held by the TA. Details will be explained as follows."
   ]
  },
  {
   "cell_type": "markdown",
   "metadata": {},
   "source": [
    "## Step 0. Visualize your data (10pt)\n",
    "\n",
    "Perform PCA on attributes and plot out all cars on the plan of PC1 and PC2. Tag cars with their prices. "
   ]
  },
  {
   "cell_type": "code",
   "execution_count": null,
   "metadata": {
    "collapsed": true
   },
   "outputs": [],
   "source": []
  },
  {
   "cell_type": "markdown",
   "metadata": {},
   "source": [
    "## Step 1. Import data and create a simple linear model (20pt)"
   ]
  },
  {
   "cell_type": "code",
   "execution_count": 7,
   "metadata": {
    "collapsed": false
   },
   "outputs": [
    {
     "data": {
      "image/png": "[encoded data removed]",
      "text/plain": [
       "<matplotlib.figure.Figure at 0x16857470>"
      ]
     },
     "metadata": {},
     "output_type": "display_data"
    }
   ],
   "source": [
    "# use this if you are using ipython notebook, otherwise comment it out\n",
    "%matplotlib inline \n",
    "\n",
    "# loading all packages... #\n",
    "import numpy as np \n",
    "from sklearn import decomposition\n",
    "from sklearn.cross_validation import train_test_split\n",
    "from sklearn.pipeline import Pipeline\n",
    "from sklearn.preprocessing import PolynomialFeatures\n",
    "from sklearn.linear_model import LinearRegression\n",
    "from sklearn import cross_validation\n",
    "from sklearn.preprocessing import StandardScaler\n",
    "import matplotlib.pyplot as plt\n",
    "\n",
    "# loading the data #\n",
    "data = np.genfromtxt('04car.txt')\n",
    "data_scaled = StandardScaler().fit_transform(data) # preprocess the data\n",
    "\n",
    "# response are car prices, i.e., the first column of the data matrix #\n",
    "y = data_scaled[:,0]\n",
    "\n",
    "# covariates are the other columns. Dealer cost is not included since it correlates too much with the price #\n",
    "X = data_scaled[:,2:data_scaled.shape[1]]\n",
    "\n",
    "# # split only on our side\n",
    "# X_train, X_test, y_train, y_test = train_test_split(X, y, \n",
    "# test_size=0.1, random_state=0)\n",
    "\n",
    "# use the following for students\n",
    "X_train = X;\n",
    "y_train = y;\n",
    "\n",
    "# a set of linear models with polynomial terms\n",
    "n, p = X_train.shape # get #samples and #dimensions\n",
    "degrees = [1] # create a simple linear model with no polynomial terms\n",
    "error = np.zeros(len(degrees)) # training error\n",
    "ncv = 10 # number of cross valiation \n",
    "scores = np.zeros((len(degrees),ncv)) # cv error\n",
    "\n",
    "\n",
    "plt.figure(figsize=(14, 7))\n",
    "for i in range(len(degrees)):\n",
    "    ax = plt.subplot(1, len(degrees), i + 1)\n",
    "    plt.setp(ax, xticks=(), yticks=())\n",
    "    \n",
    "    polynomial_features = PolynomialFeatures(degree=degrees[i],\n",
    "                                             include_bias=True)\n",
    "    linear_regression = LinearRegression()\n",
    "\n",
    "    pipeline = Pipeline([(\"polynomial_features\", polynomial_features),\n",
    "                         (\"linear_regression\", linear_regression)])\n",
    "    pipeline.fit(X_train, y_train)\n",
    "    error[i] = ((pipeline.predict(X_train) - y_train)**2).sum()\n",
    "    \n",
    "    yhat = pipeline.predict(X_train)\n",
    "\n",
    "    # Evaluate the models using crossvalidation\n",
    "    scores[i,] = cross_validation.cross_val_score(pipeline,\n",
    "        X_train, y_train, scoring=\"mean_squared_error\", cv=ncv)\n",
    "    \n",
    "    plt.scatter(y_train, yhat)\n",
    "    \n",
    "    plt.xlabel(\"x\")\n",
    "    plt.ylabel(\"y\")\n",
    "    plt.xlim((min(y_train), max(y_train)))\n",
    "    plt.ylim((min(yhat), max(yhat)))"
   ]
  },
  {
   "cell_type": "markdown",
   "metadata": {},
   "source": [
    "## Step 2. Now use the same code to create multiple models and compare (30pt)\n",
    "\n",
    "Compare models using crossvalidation, AIC and BIC. Discuss how model complex affects the training error and these model selection criteria."
   ]
  },
  {
   "cell_type": "code",
   "execution_count": null,
   "metadata": {
    "collapsed": true
   },
   "outputs": [],
   "source": [
    "%matplotlib inline # use this if you are using ipython notebook, otherwise comment it out\n",
    "\n",
    "# loading all packages... #\n",
    "import numpy as np \n",
    "from sklearn import decomposition\n",
    "from sklearn.cross_validation import train_test_split\n",
    "from sklearn.pipeline import Pipeline\n",
    "from sklearn.preprocessing import PolynomialFeatures\n",
    "from sklearn.linear_model import LinearRegression\n",
    "from sklearn import cross_validation\n",
    "from sklearn.preprocessing import StandardScaler\n",
    "import matplotlib.pyplot as plt\n",
    "\n",
    "# loading the data #\n",
    "data = np.genfromtxt('04car.txt')\n",
    "data_scaled = StandardScaler().fit_transform(data) # preprocess the data\n",
    "\n",
    "# response are car prices, i.e., the first column of the data matrix #\n",
    "y = data_scaled[:,0]\n",
    "\n",
    "# covariates are the other columns. Dealer cost is not included since it correlates too much with the price #\n",
    "X = data_scaled[:,2:data_scaled.shape[1]]\n",
    "\n",
    "# # split only on our side\n",
    "# X_train, X_test, y_train, y_test = train_test_split(X, y, \n",
    "# test_size=0.1, random_state=0)\n",
    "\n",
    "# use the following for students\n",
    "X_train = X;\n",
    "y_train = y;\n",
    "\n",
    "# a set of linear models with polynomial terms\n",
    "n, p = X_train.shape # get #samples and #dimensions\n",
    "degrees = [1, 2, 3] \n",
    "error = np.zeros(len(degrees)) # training error\n",
    "ncv = 10 # number of cross valiation \n",
    "scores = np.zeros((len(degrees),ncv)) # cv error\n",
    "\n",
    "\n",
    "plt.figure(figsize=(14, 7))\n",
    "for i in range(len(degrees)):\n",
    "    ax = plt.subplot(1, len(degrees), i + 1)\n",
    "    plt.setp(ax, xticks=(), yticks=())\n",
    "    \n",
    "    polynomial_features = PolynomialFeatures(degree=degrees[i],\n",
    "                                             include_bias=True)\n",
    "    linear_regression = LinearRegression()\n",
    "\n",
    "    pipeline = Pipeline([(\"polynomial_features\", polynomial_features),\n",
    "                         (\"linear_regression\", linear_regression)])\n",
    "    pipeline.fit(X_train, y_train)\n",
    "    error[i] = ((pipeline.predict(X_train) - y_train)**2).sum()\n",
    "    \n",
    "    yhat = pipeline.predict(X_train)\n",
    "\n",
    "    # Evaluate the models using crossvalidation\n",
    "    scores[i,] = cross_validation.cross_val_score(pipeline,\n",
    "        X_train, y_train, scoring=\"mean_squared_error\", cv=ncv)\n",
    "    \n",
    "    plt.scatter(y_train, yhat)\n",
    "    \n",
    "    plt.xlabel(\"x\")\n",
    "    plt.ylabel(\"y\")\n",
    "    plt.xlim((min(y_train), max(y_train)))\n",
    "    plt.ylim((min(yhat), max(yhat)))"
   ]
  },
  {
   "cell_type": "markdown",
   "metadata": {},
   "source": [
    "# Step 3. Propose your own model and compare with the above ones (20pt)\n",
    "\n",
    "Propose your own linear model (does not have to contain only polynomial terms). Report its crossvalidation, AIC and BIC scores. "
   ]
  }
 ],
 "metadata": {
  "kernelspec": {
   "display_name": "Python 2",
   "language": "python",
   "name": "python2"
  },
  "language_info": {
   "codemirror_mode": {
    "name": "ipython",
    "version": 2
   },
   "file_extension": ".py",
   "mimetype": "text/x-python",
   "name": "python",
   "nbconvert_exporter": "python",
   "pygments_lexer": "ipython2",
   "version": "2.7.9"
  }
 },
 "nbformat": 4,
 "nbformat_minor": 0
}
