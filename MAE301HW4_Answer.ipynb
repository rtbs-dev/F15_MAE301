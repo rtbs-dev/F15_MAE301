{
 "cells": [
  {
   "cell_type": "markdown",
   "metadata": {},
   "source": [
    "# MAE 301 Homework 4"
   ]
  },
  {
   "cell_type": "markdown",
   "metadata": {},
   "source": [
    "## Problem 1 (15pt)\n",
    "\n",
    "For a mechanical system, the (independent) inputs are represented by random variables $X$ and $Y$, and the\n",
    "output is represented by random variable $Z$. Theoretically they are related by\n",
    "\n",
    "\\begin{equation}\n",
    "Z = -5X + 2Y + 4\n",
    "\\end{equation}\n",
    "\n",
    "It is known that the random variables are normal distributed and X has a variance of 4. The variance of Y is\n",
    "unknown and cannot be measured due to technical difficulties. Instead, measurements of Z are made and\n",
    "the following data are obtained: 220, 193, 212, 201\n",
    "\n",
    "Do the data support the conjecture that the variance of $Y$ is 10?"
   ]
  },
  {
   "cell_type": "markdown",
   "metadata": {},
   "source": [
    "## Solution\n",
    "\n",
    "From the sample, the sample mean for $Z$ is $\\bar{z} = 206.5$, and the sample variance is $s^2_Z = 141.6667$.\n",
    "Assuming the variance of $Y$ is 10, since $X$ and $Y$ are independent, the variance of $Z$ is $\\sigma_z^2 = 25\\sigma_X^2 + 4\\sigma_Y^2 = 140$.\n",
    "\n",
    "Chi-square test on a single variance (here of $Z$):\n",
    "\\begin{equation}\n",
    "\\chi_Z^2 = \\frac{(n-1)s_Z^2}{\\sigma_Z^2} = \\frac{(4-1)141.6667}{140} = 3.0357\n",
    "\\end{equation}\n",
    "\n",
    "Reasonable Chi-square interval if the assumption is correct: $(\\chi_{0.975}^2, \\chi_{0.025}^2) = (0.216,9.348)$. Since $\\chi_Z^2 = 3.0357$ falls into this interval, the data support the hypothesis that the variance of $Y$ is 10. Note: You can also calculate the cdf of $\\chi_Z^2 = 3.0357$ to get $P(\\chi_Z^2 \\geq 3.0357) = 0.39$. Since this probability is high (higher than a threshold of $5\\%$ or $2.5\\%$), we cannot reject the hypothesis.\n"
   ]
  },
  {
   "cell_type": "markdown",
   "metadata": {},
   "source": [
    "## Problem 2 (10pt)"
   ]
  },
  {
   "cell_type": "markdown",
   "metadata": {},
   "source": [
    "An electrical firm manufactures light bulbs that have a length of life that is approximately normally\n",
    "distributed with a standard deviation of 40 hours. A sample of 30 bulbs has an average life of 780 hours.\n",
    "\n",
    "* (a) Find a 96% confidence interval for the population mean of all bulbs;\n",
    "* (b) How large a sample is needed if we wish to be 96% confident that our sample mean will be within 10 hours of the true mean?"
   ]
  },
  {
   "cell_type": "markdown",
   "metadata": {},
   "source": [
    "## Solution\n",
    "\n",
    "* (a) $\\mu = \\bar{x} \\pm z_{\\alpha/2}\\frac{\\sigma}{\\sqrt{n}} = \\bar{x} \\pm z_{0.02}\\frac{\\sigma}{\\sqrt{n}} = 780 \\pm 2.054\\left(\\frac{40}{\\sqrt{30}}\\right) = 780 \\pm 15.0$ hours or $765 < \\mu < 795 (96\\%)$\n",
    "* (b) $n \\geq \\left(\\frac{z_{\\alpha/2}\\sigma}{e}\\right)^2 = \\left(\\frac{z_{0.02}\\sigma}{e}\\right)^2 = \\left(\\frac{2.054(40)}{10}\\right)^2 = 67.5 \\rightarrow n \\geq 68$"
   ]
  },
  {
   "cell_type": "markdown",
   "metadata": {},
   "source": [
    "## Problem 3 (20pt)"
   ]
  },
  {
   "cell_type": "markdown",
   "metadata": {},
   "source": [
    "Two resistors are to be combined to form an equivalent resistance of 1000 $\\Omega$ (or close to it). Readily\n",
    "available are two common resistors rated at 2000 $\\Omega$. To ensure the resistors are rated correctly, a student\n",
    "measures the resistors using an ohmmeter and obtains the following data:\n",
    "\n",
    "\\begin{array} {|c|c|}\n",
    "\\hline\n",
    "    R_1 (\\Omega) & R_2 (\\Omega)  \\\\\n",
    "\\hline\n",
    "    2002 & 2001 \\\\\n",
    "    1998 & 1995 \\\\\n",
    "    1999 & 1998 \\\\\n",
    "    2003 & 1997 \\\\\n",
    "\\hline\n",
    "\\end{array}\n",
    "\n",
    "* (a) Explain how you would combine these resistors to form the 1000 $\\Omega$ resistance. (Note: This is not a statistics question)\n",
    "* (b) Based on the measurements, estimate the equivalent resistance with its uncertainty at confidence level $P = 95\\%$."
   ]
  },
  {
   "cell_type": "markdown",
   "metadata": {},
   "source": [
    "## Solution\n",
    "\n",
    "* (a) Two 2000 $\\Omega$ resistors in parallel\n",
    "\\begin{equation}\n",
    "R_{eq} = \\frac{R_1R_2}{R_1 + R_2}\n",
    "\\end{equation}\n",
    "Note: For the final equivalent resistance calculation, the sample means of $R_1$ and $R_2$ are used.\n",
    "* (b) Resistor $R_1$: $\\bar{R}_1 = 2000.50$, $S_{R_1}^2 = 5.667 \\rightarrow U_{\\bar{R}_1}= t_{0.025}\\frac{S_{R_1}}{\\sqrt{n_1}} = 3.787$\n",
    "\n",
    "Resistor $R_2$: $\\bar{R}_2 = 1997.75$, $S_{R_2}^2 = 6.25 \\rightarrow U_{\\bar{R}_2}= t_{0.025}\\frac{S_{R_2}}{\\sqrt{n_2}} = 3.978$\n",
    "\n",
    "Uncertainty in the equivalent resistance $R_{eq}$:\n",
    "\n",
    "\\begin{equation}\n",
    "\\begin{aligned}\n",
    "U_{R_{eq}} & = \\left(\\left(\\frac{\\partial R_{eq}}{\\partial \\bar{R}_1}U_{\\bar{R}_1}\\right)^2 + \\left(\\frac{\\partial R_{eq}}{\\partial \\bar{R}_1}U_{\\bar{R}_1}\\right)^2\\right)^{1/2}\\\\\n",
    "& = \\left(\\left(\\frac{\\bar{R}_2^2}{(\\bar{R}_1+\\bar{R}_2)^2}U_{\\bar{R}_1}\\right)^2 + \\left(\\frac{\\bar{R}_1^2}{(\\bar{R}_1+\\bar{R}_2)^2}U_{\\bar{R}_1}\\right)^2\\right)^{1/2}\\\\\n",
    "& = 1.373\n",
    "\\end{aligned}\n",
    "\\end{equation}\n",
    "\n",
    "So $R_{eq} = \\frac{\\bar{R}_1\\bar{R}_2}{\\bar{R}_1 + \\bar{R}_2} \\pm U_{R_{eq}} = 999.56 \\pm 1.373 \\Omega (95\\%)$"
   ]
  },
  {
   "cell_type": "markdown",
   "metadata": {},
   "source": [
    "## Problem 4 (10pt)"
   ]
  },
  {
   "cell_type": "markdown",
   "metadata": {},
   "source": [
    "The chemical orthophosphorus content was measured at two different stations on a river. Fifteen samples\n",
    "were collected from station 1 and 12 samples were obtained from station 2. The 15 samples from station 1\n",
    "had an average orthophosphorus content of 3.84 milligrams per liter and a standard deviation of 3.07\n",
    "milligrams per liter, while the 12 samples from station 2 had an average content of 1.49 milligrams per liter\n",
    "and a standard deviation of 0.80 milligram per liter.\n",
    "\n",
    "* (a) Construct $98\\%$ confidence intervals for $\\sigma_1^2/\\sigma_2^2$ and $\\sigma_1/\\sigma_2$.\n",
    "* (b) If a chemical engineer claims that $\\sigma_1/\\sigma_2 >1.5$, do the results in (a) support this claim?"
   ]
  },
  {
   "cell_type": "markdown",
   "metadata": {},
   "source": [
    "## Solution\n",
    "\n",
    "* (a) Confidence interval for the ratio of variances\n",
    "\n",
    "\\begin{equation}\n",
    "\\begin{aligned}\n",
    "& \\frac{s_1^2}{s_2^2}\\frac{1}{f_{\\alpha/2}(v_1,v_2)} < \\frac{\\sigma_1^2}{\\sigma_2^2} < \\frac{s_1^2}{s_2^2}f_{\\alpha/2}(v_2,v_1)\\\\\n",
    "\\rightarrow & \\frac{3.07^2}{0.80^2}(\\frac{1}{4.29}) < \\frac{\\sigma_1^2}{\\sigma_2^2} < \\frac{3.07^2}{0.80^2}(3.87)\\\\\n",
    "\\rightarrow & 3.425 < \\frac{\\sigma_1^2}{\\sigma_2^2} < 56.991 (98\\%)\\\\\n",
    "\\rightarrow & 1.851 < \\frac{\\sigma_1}{\\sigma_2} < 7.549 (98\\%)\n",
    "\\end{aligned}\n",
    "\\end{equation}\n",
    "\n",
    "* (b) Note that the ratio $\\sigma_1/\\sigma_2 > 1.851$ according to the confidence interval. Hence the claim is supported by the samples."
   ]
  },
  {
   "cell_type": "markdown",
   "metadata": {},
   "source": [
    "## Problem 5 (45pt)"
   ]
  },
  {
   "cell_type": "markdown",
   "metadata": {},
   "source": [
    "Download the dataset (04car.txt) and the data explanation (04car.cvs) from Blackboard. Preprocess the data and perform PCA. Report the first two principal components and explain their meaning. (Note: You will need to understand the meaning of each data column to make sense of the PCs.) The original data is from http://www.amstat.org/publications/jse/datasets"
   ]
  },
  {
   "cell_type": "markdown",
   "metadata": {},
   "source": [
    "## Solution\n",
    "\n",
    "See the code below."
   ]
  },
  {
   "cell_type": "code",
   "execution_count": 2,
   "metadata": {},
   "outputs": [
    {
     "data": {
      "text/plain": [
       "array([ 0.26375044,  0.26231864,  0.34708049,  0.33418876,  0.31860226,\n",
       "       -0.31048173, -0.30658864,  0.33632937,  0.26621003,  0.25679019,\n",
       "        0.29605459])"
      ]
     },
     "execution_count": 2,
     "output_type": "execute_result",
     "metadata": {}
    }
   ],
   "source": [
    "from sklearn import decomposition # for PCA\n",
    "import numpy as np \n",
    "from sklearn.preprocessing import StandardScaler\n",
    "\n",
    "# import data. Make sure you have 04car.txt in the folder\n",
    "data = np.genfromtxt('04car.txt')\n",
    "\n",
    "# preprocess data to have zero mean and unit variance in each car attribute\n",
    "data_scaled = StandardScaler().fit_transform(data)\n",
    "\n",
    "# use RandomizedPCA to compute the PCs.\n",
    "# Note: If you set whiten=True, then the PCs will be normalized by the sample standard deviation ($\\sqrt{\\lambda/n}$)\n",
    "pca = decomposition.RandomizedPCA(n_components=2, whiten=False)\n",
    "pca.fit(data_scaled)\n",
    "\n",
    "# show the first PC\n",
    "pca.components_[0]"
   ]
  }
 ],
 "metadata": {
  "kernelspec": {
   "display_name": "Python 2",
   "language": "python",
   "name": "python2"
  },
  "language_info": {
   "codemirror_mode": {
    "name": "ipython",
    "version": 2.0
   },
   "file_extension": ".py",
   "mimetype": "text/x-python",
   "name": "python",
   "nbconvert_exporter": "python",
   "pygments_lexer": "ipython2",
   "version": "2.7.9"
  }
 },
 "nbformat": 4,
 "nbformat_minor": 0
}