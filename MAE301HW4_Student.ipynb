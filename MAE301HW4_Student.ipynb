{
 "cells": [
  {
   "cell_type": "markdown",
   "metadata": {},
   "source": [
    "# MAE 301 Homework 4"
   ]
  },
  {
   "cell_type": "markdown",
   "metadata": {},
   "source": [
    "## Problem 1 (15pt)\n",
    "\n",
    "For a mechanical system, the (independent) inputs are represented by random variables $X$ and $Y$, and the\n",
    "output is represented by random variable $Z$. Theoretically they are related by\n",
    "\n",
    "\\begin{equation}\n",
    "Z = -5X + 2Y + 4\n",
    "\\end{equation}\n",
    "\n",
    "It is known that the random variables are normal distributed and X has a variance of 4. The variance of Y is\n",
    "unknown and cannot be measured due to technical difficulties. Instead, measurements of Z are made and\n",
    "the following data are obtained: 220, 193, 212, 201\n",
    "\n",
    "Do the data support the conjecture that the variance of $Y$ is 10?"
   ]
  },
  {
   "cell_type": "markdown",
   "metadata": {},
   "source": [
    "## Problem 2 (10pt)"
   ]
  },
  {
   "cell_type": "markdown",
   "metadata": {},
   "source": [
    "An electrical firm manufactures light bulbs that have a length of life that is approximately normally\n",
    "distributed with a standard deviation of 40 hours. A sample of 30 bulbs has an average life of 780 hours.\n",
    "\n",
    "* (a) Find a 96% confidence interval for the population mean of all bulbs;\n",
    "* (b) How large a sample is needed if we wish to be 96% confident that our sample mean will be within 10 hours of the true mean?"
   ]
  },
  {
   "cell_type": "markdown",
   "metadata": {},
   "source": [
    "## Problem 3 (20pt)"
   ]
  },
  {
   "cell_type": "markdown",
   "metadata": {},
   "source": [
    "Two resistors are to be combined to form an equivalent resistance of 1000 $\\Omega$ (or close to it). Readily\n",
    "available are two common resistors rated at 2000 $\\Omega$. To ensure the resistors are rated correctly, a student\n",
    "measures the resistors using an ohmmeter and obtains the following data:\n",
    "\n",
    "\\begin{array} {|c|c|}\n",
    "\\hline\n",
    "    R_1 (\\Omega) & R_2 (\\Omega)  \\\\\n",
    "\\hline\n",
    "    2002 & 2001 \\\\\n",
    "    1998 & 1995 \\\\\n",
    "    1999 & 1998 \\\\\n",
    "    2003 & 1997 \\\\\n",
    "\\hline\n",
    "\\end{array}\n",
    "\n",
    "* (a) Explain how you would combine these resistors to form the 1000 $\\Omega$ resistance. (Note: This is not a statistics question)\n",
    "* (b) Based on the measurements, estimate the equivalent resistance with its uncertainty at confidence level $P = 95\\%$."
   ]
  },
  {
   "cell_type": "markdown",
   "metadata": {},
   "source": [
    "## Problem 4 (10pt)"
   ]
  },
  {
   "cell_type": "markdown",
   "metadata": {},
   "source": [
    "The chemical orthophosphorus content was measured at two different stations on a river. Fifteen samples\n",
    "were collected from station 1 and 12 samples were obtained from station 2. The 15 samples from station 1\n",
    "had an average orthophosphorus content of 3.84 milligrams per liter and a standard deviation of 3.07\n",
    "milligrams per liter, while the 12 samples from station 2 had an average content of 1.49 milligrams per liter\n",
    "and a standard deviation of 0.80 milligram per liter.\n",
    "\n",
    "* (a) Construct $98\\%$ confidence intervals for $\\sigma_1^2/\\sigma_2^2$ and $\\sigma_1/\\sigma_2$.\n",
    "* (b) If a chemical engineer claims that $\\sigma_1/\\sigma_2 >1.5$, do the results in (a) support this claim?"
   ]
  },
  {
   "cell_type": "markdown",
   "metadata": {},
   "source": [
    "## Problem 5 (45pt)"
   ]
  },
  {
   "cell_type": "markdown",
   "metadata": {},
   "source": [
    "Download the dataset (04car.txt) and the data explanation (04car.cvs) from Blackboard. Preprocess the data and perform PCA. Report the first two principal components and explain their meaning. (Note: You will need to understand the meaning of each data column to make sense of the PCs.) The original data is from http://www.amstat.org/publications/jse/datasets"
   ]
  }
 ],
 "metadata": {
  "kernelspec": {
   "display_name": "Python 2",
   "language": "python",
   "name": "python2"
  },
  "language_info": {
   "codemirror_mode": {
    "name": "ipython",
    "version": 2
   },
   "file_extension": ".py",
   "mimetype": "text/x-python",
   "name": "python",
   "nbconvert_exporter": "python",
   "pygments_lexer": "ipython2",
   "version": "2.7.9"
  }
 },
 "nbformat": 4,
 "nbformat_minor": 0
}
