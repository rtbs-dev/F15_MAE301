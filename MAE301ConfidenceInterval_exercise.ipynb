{
 "cells": [
  {
   "cell_type": "markdown",
   "metadata": {},
   "source": [
    "# MAE 301 Confidence Interval Exercises"
   ]
  },
  {
   "cell_type": "markdown",
   "metadata": {},
   "source": [
    "## Problem 1 (page 12)\n",
    "\n",
    "The average zinc concentration recovered from a sample of zinc\n",
    "measurements in 36 different locations is found to be 2.6 grams\n",
    "per milliliter. Find the 95% and 99% confidence intervals for the\n",
    "mean zinc concentration in the river. Assume that the population\n",
    "standard deviation is 0.3.\n",
    "\n",
    "## Solution\n",
    "\n",
    "Let the random variable $\\bar{X}$ be the sample mean of zinc concentration. $\\bar{x} = 2.6$, $n = 36$, $\\alpha_1 = 0.05$, $\\alpha_2 = 0.01$, $\\sigma_{\\bar{X}} = \\frac{0.3}{\\sqrt{n}} = 0.05$. The variable $\\frac{\\bar{X}-\\mu_{\\bar{X}}}{\\sigma_{\\bar{X}}}$ follows a standard normal distribution since $n>30$. Since the population variance (and standard deviation) is known, we have $P(-z_{\\alpha/2} \\leq \\frac{\\bar{X}-\\mu_{\\bar{X}}}{\\sigma_{\\bar{X}}} \\leq z_{\\alpha/2}) = 1 - \\alpha$. Rearrange terms to have $P(\\bar{X}-\\sigma_{\\bar{X}} z_{\\alpha/2} \\leq \\mu_{\\bar{X}} \\leq \\bar{X}+\\sigma_{\\bar{X}} z_{\\alpha/2}) = 1-\\alpha$. For a given sample set, the confidence interval is $[\\bar{x}-\\sigma_{\\bar{X}} z_{\\alpha/2}, \\bar{x}+\\sigma_{\\bar{X}} z_{\\alpha/2}]$. Plug in all numbers to get the confidence interval $[2.6-0.05*1.96, 2.6+0.05*1.96]$ (for $\\alpha_1= 0.05$) and $[2.6-0.05*2.33,2.6+0.05*2.33]$ (for $\\alpha_2= 0.01$).\n",
    "\n"
   ]
  },
  {
   "cell_type": "markdown",
   "metadata": {},
   "source": [
    "## Problem 2 (page 15)\n",
    "\n",
    "An efficiency expert wishes to determine the average time that it\n",
    "takes to drill three holes in a certain metal clamp. How large a\n",
    "sample will he need to be 95% confident that his sample mean will\n",
    "be within 15 seconds of the true mean. Assume that it is known\n",
    "from previous studies that \u001b$\\sigma$ = 40 seconds.\n",
    "\n",
    "## Solution\n",
    "From $P(\\bar{X}-\\sigma_{\\bar{X}} z_{\\alpha/2} \\leq \\mu_{\\bar{X}} \\leq \\bar{X}+\\sigma_{\\bar{X}} z_{\\alpha/2}) = 1-\\alpha$, we know that a deviation of at most $\\delta = \\sigma_{\\bar{X}} z_{\\alpha/2}$ in estimation of the population mean can be achieved with probability $1-\\alpha$. Since $\\delta = \\sigma_{\\bar{X}} z_{\\alpha/2} = \n",
    "\\frac{\\sigma}{\\sqrt{n}}z_{\\alpha/2}$, a sample size of at least $n = (\\frac{z_{\\alpha/2}\\sigma}{\\delta})^2$ is needed. Plug in\n",
    "$\\alpha=0.05$, $\\delta = 15$ and $\\sigma = 40$ to get $n = (1.96*40/15)^2$ (to be precise, the smallest integer larger than this number).\n",
    "\n",
    "Note that here we use $z_{\\alpha/2}$ because the true $\\sigma$ is known.\n"
   ]
  },
  {
   "cell_type": "markdown",
   "metadata": {},
   "source": [
    "## Problem 3 (page 17)\n",
    "\n",
    "An accelerometer is used to measure the acceleration of a moving\n",
    "cart. The measurements are 9.8, 10.2, 10.4, 9.8, 10.0, 10.2, and\n",
    "9.6 $m/s^2$. Find a 90% confidence interval for the mean of\n",
    "accelerations, assuming an approximate normal distribution.\n",
    "\n",
    "## Solution\n",
    "From the data, we have $\\bar{x} = 10.0$ and $s = 0.283$ as the sample mean and standard deviation of a **single** acceleration measure. Since the population variance is not given, we use $[\\bar{x}-t_{\\alpha/2}\\frac{s}{\\sqrt{n}}, \\bar{x}+t_{\\alpha/2}\\frac{s}{\\sqrt{n}}]$ as the confidence interval. Plug in the data to get $[10.0 - 2.447*0.283/\\sqrt{7}, 10 + 2.447*0.283/\\sqrt{7}]$.\n",
    "\n",
    "You can double check the result with the following Python code:\n",
    "\n",
    "<pre><code>x = [9.8, 10.2, 10.4, 9.8, 10.0, 10.2, 9.6]\n",
    "xbar = np.mean(x)\n",
    "s = np.std(x,ddof=1)\n",
    "t.interval(0.95,loc=xbar,scale=s/np.sqrt(7),df=len(x)-1)\n",
    "</code></pre>\n",
    "\n"
   ]
  },
  {
   "cell_type": "markdown",
   "metadata": {},
   "source": [
    "## Problem 4 (page 18)\n",
    "\n",
    "In a psychological testing experiment, 25 subjects are selected\n",
    "randomly and their reaction time, in seconds, to a particular\n",
    "experiment is measured. Past experience suggests that the\n",
    "variance in reaction time to these types of stimuli are 4 $sec^2$ and\n",
    "that reaction time is approximately normal. The average time for\n",
    "the subjects was 6.2 seconds.\n",
    "Determine the upper 95% bound for the mean reaction time.\n",
    "\n",
    "## Solution\n",
    "This is similar to Problem 1. $n = 25$, $\\sigma = \\sqrt{4}$, $\\bar{x} = 6.2$, $\\alpha = 0.05$."
   ]
  },
  {
   "cell_type": "markdown",
   "metadata": {},
   "source": [
    "## Problem 5 (page 19)\n",
    "\n",
    "An experiment was conducted in which two types of engines, A\n",
    "and B, were compared. Gas mileage, in miles per gallon (MPG),\n",
    "was measured. Fifty experiments were conducted using engine type\n",
    "A and 75 experiments were done for engine type B. The average\n",
    "gas mileage for engine A was 36 MPG and the average for machine\n",
    "B was 42 MPG.\n",
    "Construct a 96% confidence interval on $\\mu_B- \\mu_A$. Assume that the\n",
    "population standard deviations are 6 and 8 for machines A and B,\n",
    "respectively.\n",
    "\n",
    "## Solution\n",
    "\n",
    "Let random variable $\\bar{X}$ be the sample mean of MPG differences between A and B. Since both samples are large, we can assume $\\bar{X}$ to be normally distributed: $\\bar{X} \\sim N(\\mu_{\\bar{X}}, \\sigma_{\\bar{X}}^2)$. Since MPG of A and B are independent, we have $\\mu_{\\bar{X}} = \\mu_B- \\mu_A$ and $\\sigma_{\\bar{X}}^2 = \\sigma_A^2/\\sqrt{n_A} + \\sigma_B^2/\\sqrt{n_B} = 6^2/\\sqrt{50} + 8^2/\\sqrt{75} = 12.48$. Since the true variances are known, the confidence interval for $\\mu_B- \\mu_A$ with $\\alpha = 0.04$ is $[\\bar{x} - z_{\\alpha/2}\\sigma_{\\bar{X}}, \\bar{x} - z_{\\alpha/2}\\sigma_{\\bar{X}}] = [(42-36)-2.054*\\sqrt{12.48}, (42-36)+2.054*\\sqrt{12.48}]$."
   ]
  },
  {
   "cell_type": "markdown",
   "metadata": {},
   "source": [
    "## Problem 6 (page 20)\n",
    "\n",
    "An experiment reported in Popular Science compared fuel\n",
    "economics for two types of similarly equipped diesel mini-trucks.\n",
    "Suppose that 12 Volkswagen and 10 Toyota trucks are used in the\n",
    "tests. If the 12 Volkswagen trucks average 38 MPG (miles per\n",
    "gallon) with a standard deviation of 2.35 MPG, and the 10 Toyota\n",
    "trucks average 26 with a standard deviation of 1.88 MPG.\n",
    "Construct a 90% confidence interval for the difference between the\n",
    "average MPG of these two minivans. Assume approximately\n",
    "normal distributions with equal variances.\n",
    "\n",
    "## Solution\n",
    "\n",
    "Let random variable $\\bar{X}$ be the sample mean of MPG differences between Toyota (B) and VW (A). From the normality assumption: $\\bar{X} \\sim N(\\mu_{\\bar{X}}, \\sigma_{\\bar{X}}^2)$. Since MPG of A and B are independent, we have $\\mu_{\\bar{X}} = \\mu_B- \\mu_A$; further, by assuming equal variances, we have the pooled sample variance $s_p^2 = \\frac{(n_A-1)s_A^2+(n_B-1)s_B^2}{n_A+n_B-2}$. The confidence interval for $\\mu_B- \\mu_A$ with $\\alpha = 0.10$ and 20 degrees of freedom is $[\\bar{x} - t_{\\alpha/2}(dof=20) \\sqrt{s_p^2(1/n_A+1/n_B)}, \\bar{x} - t_{\\alpha/2}(dof=20)\\sqrt{s_p^2(1/n_A+1/n_B)}] $= \n",
    "$[(26-38)-1.725*0.921, (26-38)+1.725*0.921]$."
   ]
  },
  {
   "cell_type": "markdown",
   "metadata": {},
   "source": [
    "## Problem 7 (page 21)\n",
    "\n",
    "The following data represent the running times of films produced\n",
    "by two motion-picture companies:\n",
    "<pre><code>Company 1: 103 94 110 87 98\n",
    "Company 2: 97 82 123 92 175 88 118\n",
    "</code></pre>\n",
    "Compute a 90% confidence interval for the difference between the\n",
    "average running times of films produced by the two companies.\n",
    "Assume that the running-time differences are approximately\n",
    "normally distributed with unequal variances.\n",
    "\n",
    "## Solution\n",
    "Let random variable $\\bar{X}$ be the sample mean of running time differences between Company 1 (A) and Company 2 (B). From the normality assumption: $\\bar{X} \\sim N(\\mu_{\\bar{X}}, \\sigma_{\\bar{X}}^2)$. Since running times of A and B are independent, we have $\\mu_{\\bar{X}} = \\mu_B- \\mu_A$; further, by assuming **unequal** variances, we will calculate the variance of $\\bar{X}$ as $s^2 = s_A^2/n_A+s_B^2/n_B = 163.246$ with dof $\\lfloor \\frac{(s_A^2/n_A + s_B^2/n_B)^2}{(s_A^2/n_A)^2/(n_A-1)+(s_B^2/n_B)^2/(n_B-1)} \\rfloor = 7$. The confidence interval for $\\mu_B- \\mu_A$ with $\\alpha = 0.10$ is $[\\bar{x} - t_{\\alpha/2}(dof=7) s, \\bar{x} - t_{\\alpha/2}(dof=7)s] = [(98.400-110.714)-1.895*12.777, (98.400-110.714)+1.895*12.777]$.\n"
   ]
  },
  {
   "cell_type": "markdown",
   "metadata": {},
   "source": [
    "## Problem 8 (page 24)\n",
    "\n",
    "A taxi company is trying to decide whether to purchase brand A or\n",
    "B tires for its fleet of taxis. An experiment was conducted using 12\n",
    "of each brand. The tires are run until they wear out. The results\n",
    "(in miles) are: $\\bar{x}_A = 36,300$, $\\bar{x}_B = 38,100$, $s_A = 5,000$, $s_B = 6,100$.\n",
    "\n",
    "Construct a 90% confidence interval for \u001b$\\sigma_A^2/\\sigma_B^2$. Should the\n",
    "equal-variance assumption be used to study the difference in the\n",
    "means?\n",
    "\n",
    "## Solution\n",
    "\n",
    "The ratio \u001b$\\sigma_A^2/\\sigma_B^2$ follows an f-distribution when we assume $X_A$ and $X_B$ (tire durations) are normally distributed for both brand A and B. The confidence interval at $\\alpha = 0.1$ is $[\\frac{s_A^2}{s_B^2}\\frac{1}{f_{\\alpha/2}(\\nu_A,\\nu_B)}, \\frac{s_A^2}{s_B^2}f_{\\alpha/2}(\\nu_B,\\nu_A)]$, where $\\nu_A = \\nu_B = 11$. Plug in all numbers to get $[\\frac{5000^2}{6100^2}\\frac{1}{2.818}, \\frac{5000^2}{6100^2}2.818] = [0.238, 1.893]$. Since the interval contains $1$, we can use the equal-variance assumption."
   ]
  }
 ],
 "metadata": {
  "kernelspec": {
   "display_name": "Python 2",
   "language": "python",
   "name": "python2"
  },
  "language_info": {
   "codemirror_mode": {
    "name": "ipython",
    "version": 2
   },
   "file_extension": ".py",
   "mimetype": "text/x-python",
   "name": "python",
   "nbconvert_exporter": "python",
   "pygments_lexer": "ipython2",
   "version": "2.7.9"
  }
 },
 "nbformat": 4,
 "nbformat_minor": 0
}
