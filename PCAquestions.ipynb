{
 "cells": [
  {
   "cell_type": "markdown",
   "metadata": {},
   "source": [
    "# PCA questions\n",
    "\n",
    "The followings consider a data matrix $X$ with $n$ rows of samples and $p$ columns of attributes.\n",
    "\n",
    "* What is the relationship between the eigenvalues of $X^TX$ and the variance of the data?\n",
    "\n",
    "* What is the meaning of the first (or the second) Principal Component (PC)?\n",
    "\n",
    "* How many PCs does the data have?\n",
    "\n",
    "* What's the indication of a zero eigenvalue of $X^TX$?\n",
    "\n",
    "* In what cases will the matrix $X^TX$ have zero eigenvalues?\n",
    "\n",
    "* What are the applications and limitations of PCA?\n",
    "\n",
    "# Linear regression and ANOVA\n",
    "\n",
    "The followings consider an input matrix $X$ with $n$ rows of samples and $p$ columns of attributes, and a corresponding response vector $y$ with $n$ rows.\n",
    "\n",
    "* How does a linear regression model look like?\n",
    "\n",
    "* What are the assumptions involved in a linear model?\n",
    "\n",
    "* Derivation of an Ordinary Least Square estimator.\n",
    "\n",
    "* What is the mean of this estimator and what is the variance?\n",
    "\n",
    "* In what cases, we cannot get a unique OLS estimator?\n",
    "\n",
    "* In what cases, we get a unique OLS estimator?\n",
    "\n",
    "* With all potential linear models (e.g., with polynomial terms), how do you determine which model to use?\n",
    "\n",
    "* When using ANOVA for linear models, what is the definition of the F statistic?\n",
    "\n",
    "* What conclusions can you make when the F statistic is large (or its p-value is small)?\n",
    "\n",
    "* What assumptions does ANOVA rely on when testing a linear model?\n",
    "\n",
    "* When testing the mean of two samples, what is the relationship between ANOVA and a t-test?\n"
   ]
  }
 ],
 "metadata": {
  "kernelspec": {
   "display_name": "Python 2",
   "language": "python",
   "name": "python2"
  },
  "language_info": {
   "codemirror_mode": {
    "name": "ipython",
    "version": 2
   },
   "file_extension": ".py",
   "mimetype": "text/x-python",
   "name": "python",
   "nbconvert_exporter": "python",
   "pygments_lexer": "ipython2",
   "version": "2.7.10"
  }
 },
 "nbformat": 4,
 "nbformat_minor": 0
}
