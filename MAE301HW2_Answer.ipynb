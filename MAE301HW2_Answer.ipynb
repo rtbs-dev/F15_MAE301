{
 "cells": [
  {
   "cell_type": "markdown",
   "metadata": {},
   "source": [
    "# MAE 301 Homework 2"
   ]
  },
  {
   "cell_type": "markdown",
   "metadata": {},
   "source": [
    "## Problem 1 (20pt)\n",
    "\n",
    "Let A denote the event that a structural component fails during a test and B denoted the event that the component shows strain but does not fail. Given P(A) = 0.15 and P(B) = 0.30:\n",
    "\n",
    "* (a) What is the probability that a structural component does not fail during a test?\n",
    "* (b) What is the probability that a component either fails or shows strain during a test?\n",
    "* (c) What is the probability that a component neither fails nor shows strain during a test?"
   ]
  },
  {
   "cell_type": "markdown",
   "metadata": {},
   "source": [
    "## Solution\n",
    "* (a) $P(\\overline{A}) = 1-P(A) = 0.85$\n",
    "* (b) $P(A \\lor B) = P(A) + P(B) = 0.45$ (A and B are mutually exclusive by definition)\n",
    "* (c) $P(\\overline{A \\lor B}) = 1 - 0.45 = 0.55$"
   ]
  },
  {
   "cell_type": "markdown",
   "metadata": {},
   "source": [
    "## Problem 2 (20pt)"
   ]
  },
  {
   "cell_type": "markdown",
   "metadata": {},
   "source": [
    "Hydraulic assemblies for landing gear coming from an aircraft rework facility are inspected for defects. History shows that 8% have defects in the shafts alone, 6% have defects in the bushings alone, and 2% have defects in both the shafts and the bushings. If a randomly chosen assembly is to be used on an aircraft, find the probability that it has each of these defects:\n",
    "\n",
    "* (a) A bushing defect\n",
    "* (b) A shaft or bushing defect\n",
    "* (c) Only one of the two type of defects\n",
    "* (d) No defects in shafts or bushings"
   ]
  },
  {
   "cell_type": "markdown",
   "metadata": {},
   "source": [
    "## Solution\n",
    "\n",
    "Define A = 1 as defects in shafts and B = 1 as defects in bushings.\n",
    "\n",
    "* (a) $P(B = 1) = P(B = 1, A = 0) + P(B = 1, A = 1) = 0.06 + 0.02 = 0.08$\n",
    "* (b) $P((B = 1)\\lor(A = 1)) = P(B = 1, A = 0) + P(B = 0, A = 1) + P(B = 1, A = 1) = 0.08 + 0.06 + 0.02 = 0.16$\n",
    "* (c) $P(A = 1, B = 0) + P(B = 1, A = 0) = 0.08 + 0.06 = 0.14$\n",
    "* (d) $1 - P((B = 1)\\lor(A = 1)) = 1-0.16 = 0.84$"
   ]
  },
  {
   "cell_type": "markdown",
   "metadata": {},
   "source": [
    "## Problem 3 (20pt)"
   ]
  },
  {
   "cell_type": "markdown",
   "metadata": {},
   "source": [
    "Electric motors coming off two assembly lines are pooled for storage in a common stockroom, and the room contains an equal number of motors from each line. Motors are periodically sampled from that room and tested. It is known that 10% of the motors from line I are defective and 15% of the motors from line II are defective. If a motor is randomly selected from the stockroom and found to be defective, find the probability that it came from line I."
   ]
  },
  {
   "cell_type": "markdown",
   "metadata": {},
   "source": [
    "## Solution\n",
    "\n",
    "Define $A = 1$ as motor from line I and $A = 0$ as motor from line II, $D = 1$ if the inspected motor is defective, $D = 0$ if not. We have $$P(A=1) = P(A=0) = 0.5$$ $$P(D=1|A=1) = 0.10$$ $$P(D=1|A=0) = 0.15$$\n",
    "\n",
    "Thus, $$P(A=1|D=1) = \\frac{P(D=1,A=1)}{P(D=1)} = \\frac{P(D=1|A=1)P(A=1)}{P(D=1|A=1)P(A=1)+P(D=1|A=0)P(A=0)} = 0.4$$\n",
    "\n"
   ]
  },
  {
   "cell_type": "markdown",
   "metadata": {},
   "source": [
    "## Problem 4 (20pt)"
   ]
  },
  {
   "cell_type": "markdown",
   "metadata": {},
   "source": [
    "Let X represent the number that occurs when a green die is tossed and Y the number that occurs when a red die is tossed. Find the mean and variance of the random variable Z = X + 3Y - 5"
   ]
  },
  {
   "cell_type": "markdown",
   "metadata": {},
   "source": [
    "## Solution\n",
    "\n",
    "Both random variables have stats 1, 2, 3, 4, 5, and 6, each with probability 1/6. The mean is $\\mu = \\sum x_i f(x_i) = 3.5$, and the variance is $\\sigma = E((x_i - \\mu)^2) = 2.917$. Recall that for independent random variables $X = a_1X_1 + a_2X_2 + \\cdots + a_nX_n$, its mean and variance are $\\mu_X = a_1\\mu_1 + \\cdots + a_n\\mu_n$ and $\\sigma_X = a_1^2\\sigma_1^2 + \\cdots + a_n^2\\sigma_n^2$. \n",
    "\n",
    "For random variable $X + 3Y -5$, we have $\\mu = 3.5 + 3*3.5 - 5 = 9$ and $\\sigma^2 = 2.917 + 9*2.917 = 29.17$. Note the variance of constant -5 is zero because it does not change."
   ]
  },
  {
   "cell_type": "markdown",
   "metadata": {},
   "source": [
    "## Problem 5 (20pt)"
   ]
  },
  {
   "cell_type": "markdown",
   "metadata": {},
   "source": [
    "Suppose that airplane engines operate independently and fail with probability equal to 0.4. Assuming that a plane makes a safe flight if at least one-half of its engine run, determine whether a 4-engine plane or a 2-engine plane has the higher probability for a successful flight."
   ]
  },
  {
   "cell_type": "markdown",
   "metadata": {},
   "source": [
    "## Solution\n",
    "\n",
    "For 4-engine plane, define $X$ as the number of failed engines.\n",
    "f(X=x) follows a binomial distribution with $p=0.4$ and $n = 4$. The safe flight chance is $P_X = f(X=0)+f(X=1)+f(X=2) = 0.1296 + 0.3456 + 0.3456 = 0.8208$.\n",
    "\n",
    "For 2-engine plane, we have $P_Y  = f'(Y=0)+f'(Y=1) = 0.36 + 0.48 = 0.84$. Here $f'(Y=y)$ follows a binomial distribution with $p=0.4$ and $n = 2$.\n",
    "\n",
    "The 2-engine plane has the higher probability for a successful flight!"
   ]
  }
 ],
 "metadata": {
  "kernelspec": {
   "display_name": "Python 2",
   "language": "python",
   "name": "python2"
  },
  "language_info": {
   "codemirror_mode": {
    "name": "ipython",
    "version": 2.0
   },
   "file_extension": ".py",
   "mimetype": "text/x-python",
   "name": "python",
   "nbconvert_exporter": "python",
   "pygments_lexer": "ipython2",
   "version": "2.7.10"
  }
 },
 "nbformat": 4,
 "nbformat_minor": 0
}